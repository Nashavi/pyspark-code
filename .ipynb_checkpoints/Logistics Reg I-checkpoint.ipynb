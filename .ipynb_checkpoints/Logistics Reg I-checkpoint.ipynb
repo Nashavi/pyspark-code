{
 "cells": [
  {
   "cell_type": "code",
   "execution_count": 1,
   "metadata": {
    "collapsed": true
   },
   "outputs": [],
   "source": [
    "from pyspark.sql import SparkSession"
   ]
  },
  {
   "cell_type": "code",
   "execution_count": 2,
   "metadata": {
    "collapsed": true
   },
   "outputs": [],
   "source": [
    "spark = SparkSession.builder.appName('log_reg_I').getOrCreate()"
   ]
  },
  {
   "cell_type": "code",
   "execution_count": 3,
   "metadata": {
    "collapsed": true
   },
   "outputs": [],
   "source": [
    "from pyspark.ml.classification import LogisticRegression"
   ]
  },
  {
   "cell_type": "code",
   "execution_count": 4,
   "metadata": {
    "collapsed": true
   },
   "outputs": [],
   "source": [
    "df = spark.read.format('libsvm').load('/home/ubuntu/Course_Notes/Spark_for_Machine_Learning/Logistic_Regression/sample_libsvm_data.txt')"
   ]
  },
  {
   "cell_type": "code",
   "execution_count": 5,
   "metadata": {},
   "outputs": [
    {
     "name": "stdout",
     "output_type": "stream",
     "text": [
      "+-----+--------------------+\n",
      "|label|            features|\n",
      "+-----+--------------------+\n",
      "|  0.0|(692,[127,128,129...|\n",
      "|  1.0|(692,[158,159,160...|\n",
      "|  1.0|(692,[124,125,126...|\n",
      "|  1.0|(692,[152,153,154...|\n",
      "|  1.0|(692,[151,152,153...|\n",
      "|  0.0|(692,[129,130,131...|\n",
      "|  1.0|(692,[158,159,160...|\n",
      "|  1.0|(692,[99,100,101,...|\n",
      "|  0.0|(692,[154,155,156...|\n",
      "|  0.0|(692,[127,128,129...|\n",
      "|  1.0|(692,[154,155,156...|\n",
      "|  0.0|(692,[153,154,155...|\n",
      "|  0.0|(692,[151,152,153...|\n",
      "|  1.0|(692,[129,130,131...|\n",
      "|  0.0|(692,[154,155,156...|\n",
      "|  1.0|(692,[150,151,152...|\n",
      "|  0.0|(692,[124,125,126...|\n",
      "|  0.0|(692,[152,153,154...|\n",
      "|  1.0|(692,[97,98,99,12...|\n",
      "|  1.0|(692,[124,125,126...|\n",
      "+-----+--------------------+\n",
      "only showing top 20 rows\n",
      "\n"
     ]
    }
   ],
   "source": [
    "df.show()"
   ]
  },
  {
   "cell_type": "code",
   "execution_count": 6,
   "metadata": {
    "collapsed": true
   },
   "outputs": [],
   "source": [
    "train,test = df.randomSplit([0.7,0.3])"
   ]
  },
  {
   "cell_type": "code",
   "execution_count": 7,
   "metadata": {
    "collapsed": true
   },
   "outputs": [],
   "source": [
    "log_reg = LogisticRegression()"
   ]
  },
  {
   "cell_type": "code",
   "execution_count": 8,
   "metadata": {
    "collapsed": true
   },
   "outputs": [],
   "source": [
    "fit = log_reg.fit(train)"
   ]
  },
  {
   "cell_type": "code",
   "execution_count": 9,
   "metadata": {
    "collapsed": true
   },
   "outputs": [],
   "source": [
    "results = fit.evaluate(test)"
   ]
  },
  {
   "cell_type": "code",
   "execution_count": 13,
   "metadata": {},
   "outputs": [
    {
     "name": "stdout",
     "output_type": "stream",
     "text": [
      "+-----+--------------------+--------------------+--------------------+----------+\n",
      "|label|            features|       rawPrediction|         probability|prediction|\n",
      "+-----+--------------------+--------------------+--------------------+----------+\n",
      "|  0.0|(692,[100,101,102...|[11.2419998618889...|[0.99998688839672...|       0.0|\n",
      "|  0.0|(692,[123,124,125...|[33.0019810402602...|[0.99999999999999...|       0.0|\n",
      "|  0.0|(692,[124,125,126...|[32.2643855097171...|[0.99999999999999...|       0.0|\n",
      "|  0.0|(692,[124,125,126...|[22.6811451604980...|[0.99999999985884...|       0.0|\n",
      "|  0.0|(692,[124,125,126...|[23.7524444665763...|[0.99999999995164...|       0.0|\n",
      "|  0.0|(692,[126,127,128...|[34.0716441730810...|[0.99999999999999...|       0.0|\n",
      "|  0.0|(692,[126,127,128...|[19.1143712164974...|[0.99999999500271...|       0.0|\n",
      "|  0.0|(692,[126,127,128...|[28.0994418208561...|[0.99999999999937...|       0.0|\n",
      "|  0.0|(692,[126,127,128...|[32.0912957023637...|[0.99999999999998...|       0.0|\n",
      "|  0.0|(692,[153,154,155...|[15.5267494541521...|[0.99999981935817...|       0.0|\n",
      "|  0.0|(692,[155,156,180...|[34.3959901413883...|[0.99999999999999...|       0.0|\n",
      "|  1.0|(692,[97,98,99,12...|[-21.343904488541...|[5.37600987916195...|       1.0|\n",
      "|  1.0|(692,[123,124,125...|[-27.584855678505...|[1.04724765057761...|       1.0|\n",
      "|  1.0|(692,[124,125,126...|[-29.835441676537...|[1.10314427313619...|       1.0|\n",
      "|  1.0|(692,[125,126,127...|[-23.510177430947...|[6.16112007840011...|       1.0|\n",
      "|  1.0|(692,[126,127,128...|[-29.798416715887...|[1.14475368664979...|       1.0|\n",
      "|  1.0|(692,[127,128,154...|[-15.894352067318...|[1.25075010903824...|       1.0|\n",
      "|  1.0|(692,[128,129,130...|[-25.483077328799...|[8.56722423678119...|       1.0|\n",
      "|  1.0|(692,[128,129,155...|[-19.993703795771...|[2.07417200248630...|       1.0|\n",
      "|  1.0|(692,[129,130,131...|[-3.5985982243727...|[0.02663330907123...|       1.0|\n",
      "+-----+--------------------+--------------------+--------------------+----------+\n",
      "only showing top 20 rows\n",
      "\n"
     ]
    }
   ],
   "source": [
    "results.predictions.show()"
   ]
  },
  {
   "cell_type": "code",
   "execution_count": 14,
   "metadata": {
    "collapsed": true
   },
   "outputs": [],
   "source": [
    "from pyspark.ml.evaluation import BinaryClassificationEvaluator"
   ]
  },
  {
   "cell_type": "code",
   "execution_count": 15,
   "metadata": {
    "collapsed": true
   },
   "outputs": [],
   "source": [
    "bin_evaluator = BinaryClassificationEvaluator()"
   ]
  },
  {
   "cell_type": "code",
   "execution_count": 17,
   "metadata": {},
   "outputs": [],
   "source": [
    "evaluations = bin_evaluator.evaluate(results.predictions)"
   ]
  },
  {
   "cell_type": "code",
   "execution_count": 18,
   "metadata": {},
   "outputs": [
    {
     "data": {
      "text/plain": [
       "1.0"
      ]
     },
     "execution_count": 18,
     "metadata": {},
     "output_type": "execute_result"
    }
   ],
   "source": [
    "evaluations"
   ]
  },
  {
   "cell_type": "code",
   "execution_count": null,
   "metadata": {
    "collapsed": true
   },
   "outputs": [],
   "source": []
  }
 ],
 "metadata": {
  "kernelspec": {
   "display_name": "Python 3",
   "language": "python",
   "name": "python3"
  },
  "language_info": {
   "codemirror_mode": {
    "name": "ipython",
    "version": 3
   },
   "file_extension": ".py",
   "mimetype": "text/x-python",
   "name": "python",
   "nbconvert_exporter": "python",
   "pygments_lexer": "ipython3",
   "version": "3.5.2"
  }
 },
 "nbformat": 4,
 "nbformat_minor": 2
}
