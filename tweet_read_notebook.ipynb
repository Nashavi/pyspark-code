{
 "cells": [
  {
   "cell_type": "code",
   "execution_count": null,
   "metadata": {},
   "outputs": [],
   "source": [
    "import tweepy\n",
    "\n",
    "from tweepy import OAuthHandler, Stream\n",
    "from tweepy.streaming import StreamListener"
   ]
  },
  {
   "cell_type": "code",
   "execution_count": null,
   "metadata": {
    "collapsed": true
   },
   "outputs": [],
   "source": [
    "import socket\n",
    "import json"
   ]
  },
  {
   "cell_type": "code",
   "execution_count": null,
   "metadata": {
    "collapsed": true
   },
   "outputs": [],
   "source": [
    "consumer_key = '0nylmq4q4mkeDl0JdE02b2h2f'\n",
    "consumer_secret = '9kpsyX5pZh2IWhaRdzJpocAgdvJAuibCXErLlr4ev5VxxUrRIx'\n",
    "access_token = '435092753-jd5rFG3YmpCBMkJ0Igjwh03LwPW0TB7UO2ONKGdy'\n",
    "access_secret ='YXUVdubwV1nev9moThUvGC3OBxQDAMUSpghLhZpjb1q6Z'"
   ]
  },
  {
   "cell_type": "code",
   "execution_count": null,
   "metadata": {
    "collapsed": true
   },
   "outputs": [],
   "source": [
    "class TweetsListener(StreamListener):\n",
    "    \n",
    "    def __init__(self,csocket):\n",
    "        self.client_socket = csocket\n",
    "        \n",
    "    def on_data(self,data):\n",
    "        \n",
    "        try:\n",
    "            msg = json.loads(data)\n",
    "            print(msg['text'].encode('utf-8'))\n",
    "            self.client_socket.send(msg['text'].ecode('utf-8'))\n",
    "            return true\n",
    "        \n",
    "        except BaseException as e:\n",
    "            print(\"ERROR\",e)\n",
    "        \n",
    "        return true\n",
    "    \n",
    "    def on_error(self,status):\n",
    "        print(status)\n",
    "        return true"
   ]
  },
  {
   "cell_type": "code",
   "execution_count": null,
   "metadata": {
    "collapsed": true
   },
   "outputs": [],
   "source": [
    "def SendData(c_socket):\n",
    "    auth = OAuthHandler(consumer_key,consumer_secret)\n",
    "    auth.set_access_token(access_token,access_secret)\n",
    "    \n",
    "    twitter_stream = Stream(auth,TweetsListener(c_socket))\n",
    "    twitter_stream.filter(track = ['chelsea'])"
   ]
  },
  {
   "cell_type": "code",
   "execution_count": null,
   "metadata": {},
   "outputs": [],
   "source": [
    "if __name__ == '__main__':\n",
    "    s = socket.socket()\n",
    "    host = '127.0.0.1'\n",
    "    port = 5555\n",
    "    s.bind((host,port))\n",
    "\n",
    "    print('Listening on port ',port)\n",
    "    \n",
    "    s.listen(5)\n",
    "    c,addr = s.accept()\n",
    "    \n",
    "    sendData(c)"
   ]
  },
  {
   "cell_type": "code",
   "execution_count": null,
   "metadata": {
    "collapsed": true
   },
   "outputs": [],
   "source": []
  }
 ],
 "metadata": {
  "kernelspec": {
   "display_name": "Python 3",
   "language": "python",
   "name": "python3"
  },
  "language_info": {
   "codemirror_mode": {
    "name": "ipython",
    "version": 3
   },
   "file_extension": ".py",
   "mimetype": "text/x-python",
   "name": "python",
   "nbconvert_exporter": "python",
   "pygments_lexer": "ipython3",
   "version": "3.6.1"
  }
 },
 "nbformat": 4,
 "nbformat_minor": 2
}
