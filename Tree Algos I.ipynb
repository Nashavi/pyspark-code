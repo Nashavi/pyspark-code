{
 "cells": [
  {
   "cell_type": "code",
   "execution_count": 1,
   "metadata": {
    "collapsed": true
   },
   "outputs": [],
   "source": [
    "from pyspark.sql import SparkSession\n",
    "spark = SparkSession.builder.appName('Dtree').getOrCreate()"
   ]
  },
  {
   "cell_type": "code",
   "execution_count": 3,
   "metadata": {
    "collapsed": true
   },
   "outputs": [],
   "source": [
    "from pyspark.ml import Pipeline"
   ]
  },
  {
   "cell_type": "code",
   "execution_count": 4,
   "metadata": {
    "collapsed": true
   },
   "outputs": [],
   "source": [
    "from pyspark.ml.classification import (RandomForestClassifier,GBTClassifier,DecisionTreeClassifier)"
   ]
  },
  {
   "cell_type": "code",
   "execution_count": 5,
   "metadata": {
    "collapsed": true
   },
   "outputs": [],
   "source": [
    "data = spark.read.format('libsvm').load('/home/ubuntu/Course_Notes/Spark_for_Machine_Learning/Tree_Methods/sample_libsvm_data.txt')"
   ]
  },
  {
   "cell_type": "code",
   "execution_count": 6,
   "metadata": {},
   "outputs": [
    {
     "name": "stdout",
     "output_type": "stream",
     "text": [
      "+-----+--------------------+\n",
      "|label|            features|\n",
      "+-----+--------------------+\n",
      "|  0.0|(692,[127,128,129...|\n",
      "|  1.0|(692,[158,159,160...|\n",
      "|  1.0|(692,[124,125,126...|\n",
      "|  1.0|(692,[152,153,154...|\n",
      "|  1.0|(692,[151,152,153...|\n",
      "|  0.0|(692,[129,130,131...|\n",
      "|  1.0|(692,[158,159,160...|\n",
      "|  1.0|(692,[99,100,101,...|\n",
      "|  0.0|(692,[154,155,156...|\n",
      "|  0.0|(692,[127,128,129...|\n",
      "|  1.0|(692,[154,155,156...|\n",
      "|  0.0|(692,[153,154,155...|\n",
      "|  0.0|(692,[151,152,153...|\n",
      "|  1.0|(692,[129,130,131...|\n",
      "|  0.0|(692,[154,155,156...|\n",
      "|  1.0|(692,[150,151,152...|\n",
      "|  0.0|(692,[124,125,126...|\n",
      "|  0.0|(692,[152,153,154...|\n",
      "|  1.0|(692,[97,98,99,12...|\n",
      "|  1.0|(692,[124,125,126...|\n",
      "+-----+--------------------+\n",
      "only showing top 20 rows\n",
      "\n"
     ]
    }
   ],
   "source": [
    "data.show()"
   ]
  },
  {
   "cell_type": "code",
   "execution_count": 7,
   "metadata": {
    "collapsed": true
   },
   "outputs": [],
   "source": [
    "train,test = data.randomSplit([0.7,0.3])"
   ]
  },
  {
   "cell_type": "code",
   "execution_count": 10,
   "metadata": {
    "collapsed": true
   },
   "outputs": [],
   "source": [
    "dtc = DecisionTreeClassifier()\n",
    "rfc = RandomForestClassifier(numTrees= 100)\n",
    "gbc = GBTClassifier()"
   ]
  },
  {
   "cell_type": "code",
   "execution_count": 11,
   "metadata": {
    "collapsed": true
   },
   "outputs": [],
   "source": [
    "dtc_model = dtc.fit(train)\n",
    "rfc_model = rfc.fit(train)\n",
    "gbc_model = gbc.fit(train)"
   ]
  },
  {
   "cell_type": "code",
   "execution_count": 12,
   "metadata": {
    "collapsed": true
   },
   "outputs": [],
   "source": [
    "dtc_preds = dtc_model.transform(test)\n",
    "rfc_preds = rfc_model.transform(test)\n",
    "gbc_preds = gbc_model.transform(test)"
   ]
  },
  {
   "cell_type": "code",
   "execution_count": 16,
   "metadata": {},
   "outputs": [],
   "source": [
    "from pyspark.ml.evaluation import MulticlassClassificationEvaluator"
   ]
  },
  {
   "cell_type": "code",
   "execution_count": 17,
   "metadata": {
    "collapsed": true
   },
   "outputs": [],
   "source": [
    "acc_eval = MulticlassClassificationEvaluator(predictionCol='prediction',metricName='accuracy')"
   ]
  },
  {
   "cell_type": "code",
   "execution_count": 20,
   "metadata": {},
   "outputs": [
    {
     "name": "stdout",
     "output_type": "stream",
     "text": [
      "DTC accuracy : 0.9666666666666667\n",
      "RFC accuracy : 0.9666666666666667\n",
      "GBC accuracy : 0.9666666666666667\n"
     ]
    }
   ],
   "source": [
    "print(\"DTC accuracy :\",acc_eval.evaluate(dtc_preds))\n",
    "print(\"RFC accuracy :\",acc_eval.evaluate(rfc_preds))\n",
    "print(\"GBC accuracy :\",acc_eval.evaluate(gbc_preds))"
   ]
  },
  {
   "cell_type": "code",
   "execution_count": 21,
   "metadata": {},
   "outputs": [
    {
     "data": {
      "text/plain": [
       "SparseVector(692, {121: 0.0005, 128: 0.0005, 129: 0.001, 131: 0.0005, 175: 0.001, 176: 0.0016, 177: 0.0006, 183: 0.0012, 184: 0.0011, 186: 0.0005, 188: 0.0007, 204: 0.0006, 208: 0.0006, 211: 0.0004, 235: 0.0086, 240: 0.0005, 241: 0.0005, 243: 0.0129, 244: 0.0006, 245: 0.0054, 259: 0.0014, 261: 0.0036, 262: 0.0275, 263: 0.0039, 271: 0.0077, 272: 0.0196, 273: 0.0033, 290: 0.0145, 299: 0.0063, 300: 0.0011, 301: 0.0089, 302: 0.0006, 314: 0.0011, 316: 0.0005, 317: 0.0124, 318: 0.0005, 319: 0.0002, 324: 0.0013, 327: 0.0024, 328: 0.0078, 345: 0.0006, 346: 0.0015, 350: 0.0291, 351: 0.0182, 352: 0.0017, 353: 0.0002, 356: 0.0085, 359: 0.0008, 373: 0.0087, 375: 0.0005, 377: 0.0078, 378: 0.0095, 379: 0.0189, 384: 0.0099, 385: 0.0078, 386: 0.0045, 400: 0.0151, 401: 0.0013, 405: 0.0322, 406: 0.0654, 407: 0.0614, 416: 0.0007, 427: 0.0085, 428: 0.0007, 429: 0.0089, 433: 0.0305, 434: 0.0283, 435: 0.0158, 436: 0.001, 442: 0.0077, 443: 0.0037, 453: 0.0036, 454: 0.0021, 455: 0.0173, 456: 0.0094, 457: 0.0135, 458: 0.0005, 460: 0.0072, 461: 0.0142, 462: 0.0306, 463: 0.0077, 467: 0.0071, 468: 0.0164, 483: 0.0024, 485: 0.007, 486: 0.0009, 488: 0.0006, 489: 0.0705, 490: 0.0457, 492: 0.0008, 497: 0.0007, 511: 0.0114, 512: 0.0024, 513: 0.0063, 514: 0.0002, 517: 0.0237, 518: 0.0166, 519: 0.0017, 520: 0.0006, 522: 0.0059, 523: 0.0082, 524: 0.0092, 525: 0.002, 539: 0.0178, 540: 0.0087, 545: 0.0011, 549: 0.0021, 550: 0.0057, 552: 0.001, 568: 0.0107, 578: 0.0013, 579: 0.007, 597: 0.0061, 600: 0.0005, 602: 0.0001, 604: 0.0005, 605: 0.0066, 606: 0.0038, 624: 0.0005, 626: 0.0007, 627: 0.0003, 628: 0.0034, 629: 0.0001, 637: 0.0018, 653: 0.0006})"
      ]
     },
     "execution_count": 21,
     "metadata": {},
     "output_type": "execute_result"
    }
   ],
   "source": [
    "rfc_model.featureImportances"
   ]
  },
  {
   "cell_type": "code",
   "execution_count": null,
   "metadata": {
    "collapsed": true
   },
   "outputs": [],
   "source": []
  }
 ],
 "metadata": {
  "kernelspec": {
   "display_name": "Python 3",
   "language": "python",
   "name": "python3"
  },
  "language_info": {
   "codemirror_mode": {
    "name": "ipython",
    "version": 3
   },
   "file_extension": ".py",
   "mimetype": "text/x-python",
   "name": "python",
   "nbconvert_exporter": "python",
   "pygments_lexer": "ipython3",
   "version": "3.5.2"
  }
 },
 "nbformat": 4,
 "nbformat_minor": 2
}


